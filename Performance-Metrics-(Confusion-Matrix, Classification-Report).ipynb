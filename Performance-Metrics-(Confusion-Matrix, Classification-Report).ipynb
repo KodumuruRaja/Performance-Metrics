{
  "nbformat": 4,
  "nbformat_minor": 0,
  "metadata": {
    "colab": {
      "name": "Performance Metrics 1.ipynb",
      "provenance": [],
      "collapsed_sections": [],
      "authorship_tag": "ABX9TyPBvBa8B5gCyTpKxpiIQDGH",
      "include_colab_link": true
    },
    "kernelspec": {
      "name": "python3",
      "display_name": "Python 3"
    }
  },
  "cells": [
    {
      "cell_type": "markdown",
      "metadata": {
        "id": "view-in-github",
        "colab_type": "text"
      },
      "source": [
        "<a href=\"https://colab.research.google.com/github/KodumuruRaja/Performance-Metrics/blob/main/Performance-Metrics-(Confusion-Matrix%2C%20Classification-Report).ipynb\" target=\"_parent\"><img src=\"https://colab.research.google.com/assets/colab-badge.svg\" alt=\"Open In Colab\"/></a>"
      ]
    },
    {
      "cell_type": "code",
      "metadata": {
        "id": "VDuuicpJdjuV"
      },
      "source": [
        "from sklearn import metrics"
      ],
      "execution_count": null,
      "outputs": []
    },
    {
      "cell_type": "code",
      "metadata": {
        "id": "fKf7HljzdpsK"
      },
      "source": [
        "C=\"Cat\"\r\n",
        "D=\"Dog\"\r\n",
        "F=\"Fox\""
      ],
      "execution_count": null,
      "outputs": []
    },
    {
      "cell_type": "code",
      "metadata": {
        "colab": {
          "base_uri": "https://localhost:8080/"
        },
        "id": "dG_On3BPdwKF",
        "outputId": "34e1b9e0-028d-4692-df56-7aa735227c19"
      },
      "source": [
        "# True_Values\r\n",
        "y_true=[C,C,C,C,C,C, F,F,F,F,F,F,F,F,F,F, C,C,C,D,D,D,D,D,D]\r\n",
        "# Predicted_Values\r\n",
        "y_pred=[C,C,C,C,D,F, C,C,C,C,C,C,D,D,F,F, C,C,C,D,D,D,D,D,D]\r\n",
        "# Printing confusion matrix\r\n",
        "print(metrics.confusion_matrix(y_true,y_pred))\r\n",
        "# Print Precision and Recall among other metrics\r\n",
        "print(metrics.classification_report(y_true,y_pred,digits=3))"
      ],
      "execution_count": null,
      "outputs": [
        {
          "output_type": "stream",
          "text": [
            "[[7 1 1]\n",
            " [0 6 0]\n",
            " [6 2 2]]\n",
            "              precision    recall  f1-score   support\n",
            "\n",
            "         Cat      0.538     0.778     0.636         9\n",
            "         Dog      0.667     1.000     0.800         6\n",
            "         Fox      0.667     0.200     0.308        10\n",
            "\n",
            "    accuracy                          0.600        25\n",
            "   macro avg      0.624     0.659     0.581        25\n",
            "weighted avg      0.621     0.600     0.544        25\n",
            "\n"
          ],
          "name": "stdout"
        }
      ]
    },
    {
      "cell_type": "code",
      "metadata": {
        "id": "LSNcMANUe-iq"
      },
      "source": [
        ""
      ],
      "execution_count": null,
      "outputs": []
    }
  ]
}