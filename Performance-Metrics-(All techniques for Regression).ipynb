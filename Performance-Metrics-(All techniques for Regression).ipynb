{
  "nbformat": 4,
  "nbformat_minor": 0,
  "metadata": {
    "colab": {
      "name": "Performance Metrics All Techniques for Regression.ipynb",
      "provenance": [],
      "collapsed_sections": [],
      "authorship_tag": "ABX9TyNP3sKrFRRYRqP6WVh99Mok",
      "include_colab_link": true
    },
    "kernelspec": {
      "name": "python3",
      "display_name": "Python 3"
    }
  },
  "cells": [
    {
      "cell_type": "markdown",
      "metadata": {
        "id": "view-in-github",
        "colab_type": "text"
      },
      "source": [
        "<a href=\"https://colab.research.google.com/github/KodumuruRaja/Performance-Metrics/blob/main/Performance-Metrics-(All%20techniques%20for%20Regression).ipynb\" target=\"_parent\"><img src=\"https://colab.research.google.com/assets/colab-badge.svg\" alt=\"Open In Colab\"/></a>"
      ]
    },
    {
      "cell_type": "code",
      "metadata": {
        "id": "9OUpSZLOq5UA"
      },
      "source": [
        "import numpy as np\r\n",
        "import matplotlib.pyplot as plt\r\n",
        "import pandas as pd"
      ],
      "execution_count": null,
      "outputs": []
    },
    {
      "cell_type": "code",
      "metadata": {
        "colab": {
          "base_uri": "https://localhost:8080/",
          "height": 196
        },
        "id": "0QuK4n5MrF9U",
        "outputId": "2345638c-17c4-41fa-c3eb-ed963b5c85bb"
      },
      "source": [
        "data=pd.read_csv(\"/content/Student_Grades_Data.csv\")\r\n",
        "data.head()"
      ],
      "execution_count": null,
      "outputs": [
        {
          "output_type": "execute_result",
          "data": {
            "text/html": [
              "<div>\n",
              "<style scoped>\n",
              "    .dataframe tbody tr th:only-of-type {\n",
              "        vertical-align: middle;\n",
              "    }\n",
              "\n",
              "    .dataframe tbody tr th {\n",
              "        vertical-align: top;\n",
              "    }\n",
              "\n",
              "    .dataframe thead th {\n",
              "        text-align: right;\n",
              "    }\n",
              "</style>\n",
              "<table border=\"1\" class=\"dataframe\">\n",
              "  <thead>\n",
              "    <tr style=\"text-align: right;\">\n",
              "      <th></th>\n",
              "      <th>Time_to_Study</th>\n",
              "      <th>Grades</th>\n",
              "    </tr>\n",
              "  </thead>\n",
              "  <tbody>\n",
              "    <tr>\n",
              "      <th>0</th>\n",
              "      <td>1</td>\n",
              "      <td>1.5</td>\n",
              "    </tr>\n",
              "    <tr>\n",
              "      <th>1</th>\n",
              "      <td>5</td>\n",
              "      <td>2.7</td>\n",
              "    </tr>\n",
              "    <tr>\n",
              "      <th>2</th>\n",
              "      <td>7</td>\n",
              "      <td>3.1</td>\n",
              "    </tr>\n",
              "    <tr>\n",
              "      <th>3</th>\n",
              "      <td>3</td>\n",
              "      <td>2.1</td>\n",
              "    </tr>\n",
              "    <tr>\n",
              "      <th>4</th>\n",
              "      <td>2</td>\n",
              "      <td>1.8</td>\n",
              "    </tr>\n",
              "  </tbody>\n",
              "</table>\n",
              "</div>"
            ],
            "text/plain": [
              "   Time_to_Study  Grades\n",
              "0              1     1.5\n",
              "1              5     2.7\n",
              "2              7     3.1\n",
              "3              3     2.1\n",
              "4              2     1.8"
            ]
          },
          "metadata": {
            "tags": []
          },
          "execution_count": 2
        }
      ]
    },
    {
      "cell_type": "code",
      "metadata": {
        "colab": {
          "base_uri": "https://localhost:8080/"
        },
        "id": "28atBT9grRGp",
        "outputId": "22a58c7d-4f8b-4e87-c17f-04816e0afa19"
      },
      "source": [
        "data.shape"
      ],
      "execution_count": null,
      "outputs": [
        {
          "output_type": "execute_result",
          "data": {
            "text/plain": [
              "(50, 2)"
            ]
          },
          "metadata": {
            "tags": []
          },
          "execution_count": 3
        }
      ]
    },
    {
      "cell_type": "code",
      "metadata": {
        "id": "gzjvE2OsrSJI"
      },
      "source": [
        "X = data.iloc[:, :-1].values\r\n",
        "y = data.iloc[:, 1].values"
      ],
      "execution_count": null,
      "outputs": []
    },
    {
      "cell_type": "code",
      "metadata": {
        "colab": {
          "base_uri": "https://localhost:8080/"
        },
        "id": "XA8lfWeVrSuk",
        "outputId": "7bf8e640-6474-4f3f-d752-10b46fd5d8ba"
      },
      "source": [
        "X"
      ],
      "execution_count": null,
      "outputs": [
        {
          "output_type": "execute_result",
          "data": {
            "text/plain": [
              "array([[ 1],\n",
              "       [ 5],\n",
              "       [ 7],\n",
              "       [ 3],\n",
              "       [ 2],\n",
              "       [ 9],\n",
              "       [ 6],\n",
              "       [12],\n",
              "       [11],\n",
              "       [ 2],\n",
              "       [ 4],\n",
              "       [ 8],\n",
              "       [13],\n",
              "       [ 9],\n",
              "       [14],\n",
              "       [10],\n",
              "       [ 6],\n",
              "       [12],\n",
              "       [ 1],\n",
              "       [ 4],\n",
              "       [14],\n",
              "       [10],\n",
              "       [11],\n",
              "       [ 4],\n",
              "       [ 5],\n",
              "       [ 8],\n",
              "       [ 1],\n",
              "       [ 2],\n",
              "       [ 3],\n",
              "       [ 7],\n",
              "       [ 8],\n",
              "       [14],\n",
              "       [ 7],\n",
              "       [ 8],\n",
              "       [ 1],\n",
              "       [ 2],\n",
              "       [ 3],\n",
              "       [ 4],\n",
              "       [ 5],\n",
              "       [ 6],\n",
              "       [ 7],\n",
              "       [ 8],\n",
              "       [ 9],\n",
              "       [10],\n",
              "       [11],\n",
              "       [12],\n",
              "       [13],\n",
              "       [14],\n",
              "       [ 8],\n",
              "       [ 2]])"
            ]
          },
          "metadata": {
            "tags": []
          },
          "execution_count": 5
        }
      ]
    },
    {
      "cell_type": "code",
      "metadata": {
        "colab": {
          "base_uri": "https://localhost:8080/"
        },
        "id": "fZO5nNBerTR9",
        "outputId": "923d7771-cc2c-4f85-e401-b56cccbe27d0"
      },
      "source": [
        "y"
      ],
      "execution_count": null,
      "outputs": [
        {
          "output_type": "execute_result",
          "data": {
            "text/plain": [
              "array([1.5, 2.7, 3.1, 2.1, 1.8, 3.9, 2.9, 4.5, 4.3, 1.8, 2.4, 3.5, 4.8,\n",
              "       3.9, 5. , 4.1, 2.9, 4.5, 1.5, 2.4, 5. , 4.1, 4.3, 2.4, 2.7, 3.5,\n",
              "       1.5, 1.8, 2.1, 3.1, 3.5, 5. , 3.1, 3.5, 1.5, 1.8, 2.1, 2.4, 2.7,\n",
              "       2.9, 3.1, 3.5, 3.9, 4.1, 4.3, 4.5, 4.8, 5. , 3.5, 1.8])"
            ]
          },
          "metadata": {
            "tags": []
          },
          "execution_count": 6
        }
      ]
    },
    {
      "cell_type": "code",
      "metadata": {
        "id": "g29dS_MKrUJE"
      },
      "source": [
        "#Split the data into training and test datasets\r\n",
        "from sklearn.model_selection import train_test_split\r\n",
        "X_train, X_test, y_train, y_test = train_test_split(X, y, test_size = 0.3, random_state = 0)"
      ],
      "execution_count": null,
      "outputs": []
    },
    {
      "cell_type": "code",
      "metadata": {
        "colab": {
          "base_uri": "https://localhost:8080/"
        },
        "id": "RXAqDOTFrUuG",
        "outputId": "6f60f463-716e-42ba-e123-72c0123a510f"
      },
      "source": [
        "y_test"
      ],
      "execution_count": null,
      "outputs": [
        {
          "output_type": "execute_result",
          "data": {
            "text/plain": [
              "array([2.1, 3.5, 2.4, 3.5, 3.1, 1.8, 2.7, 5. , 4.3, 1.8, 3.5, 1.8, 1.5,\n",
              "       1.5, 1.5])"
            ]
          },
          "metadata": {
            "tags": []
          },
          "execution_count": 8
        }
      ]
    },
    {
      "cell_type": "code",
      "metadata": {
        "colab": {
          "base_uri": "https://localhost:8080/"
        },
        "id": "6deQfxAGrVNQ",
        "outputId": "3912d6dc-67a9-44cf-de42-24c8157ea6e0"
      },
      "source": [
        "#Fit the Simple Linear Regression Model\r\n",
        "from sklearn.linear_model import LinearRegression\r\n",
        "LinReg = LinearRegression()\r\n",
        "LinReg.fit(X_train, y_train)"
      ],
      "execution_count": null,
      "outputs": [
        {
          "output_type": "execute_result",
          "data": {
            "text/plain": [
              "LinearRegression(copy_X=True, fit_intercept=True, n_jobs=None, normalize=False)"
            ]
          },
          "metadata": {
            "tags": []
          },
          "execution_count": 9
        }
      ]
    },
    {
      "cell_type": "code",
      "metadata": {
        "colab": {
          "base_uri": "https://localhost:8080/"
        },
        "id": "PhHx2skSrV6_",
        "outputId": "8a69993c-8af8-42fb-ef52-e3a80b9a0215"
      },
      "source": [
        "#Print the \r\n",
        "print(f'a0 = {LinReg.intercept_}')\r\n",
        "print(f'a1 = {LinReg.coef_}')"
      ],
      "execution_count": null,
      "outputs": [
        {
          "output_type": "stream",
          "text": [
            "a0 = 1.3045041899441352\n",
            "a1 = [0.2704027]\n"
          ],
          "name": "stdout"
        }
      ]
    },
    {
      "cell_type": "code",
      "metadata": {
        "colab": {
          "base_uri": "https://localhost:8080/"
        },
        "id": "nAyUGwwyrWwA",
        "outputId": "31c0a10c-67e9-4efa-9698-b088a52e55d4"
      },
      "source": [
        "#Predicted grade scores from test dataset\r\n",
        "y_predict = LinReg.predict(X_test)\r\n",
        "y_predict"
      ],
      "execution_count": null,
      "outputs": [
        {
          "output_type": "execute_result",
          "data": {
            "text/plain": [
              "array([2.11571229, 3.46772579, 2.38611499, 3.46772579, 3.19732309,\n",
              "       1.84530959, 2.65651769, 5.09014199, 4.27893389, 1.84530959,\n",
              "       3.46772579, 1.84530959, 1.57490689, 1.57490689, 1.57490689])"
            ]
          },
          "metadata": {
            "tags": []
          },
          "execution_count": 11
        }
      ]
    },
    {
      "cell_type": "code",
      "metadata": {
        "colab": {
          "base_uri": "https://localhost:8080/"
        },
        "id": "o0JfCGsTrXS6",
        "outputId": "b35abc82-70ad-4752-fd46-18ca6513009d"
      },
      "source": [
        "#Actual grade scores from test dataset\r\n",
        "y_test"
      ],
      "execution_count": null,
      "outputs": [
        {
          "output_type": "execute_result",
          "data": {
            "text/plain": [
              "array([2.1, 3.5, 2.4, 3.5, 3.1, 1.8, 2.7, 5. , 4.3, 1.8, 3.5, 1.8, 1.5,\n",
              "       1.5, 1.5])"
            ]
          },
          "metadata": {
            "tags": []
          },
          "execution_count": 12
        }
      ]
    },
    {
      "cell_type": "code",
      "metadata": {
        "colab": {
          "base_uri": "https://localhost:8080/",
          "height": 295
        },
        "id": "Id5T9o33sFCq",
        "outputId": "fc6ffbdb-ee16-4411-9e6b-3ff8b9348d7c"
      },
      "source": [
        "#Grades Vs Time to Study visualization on Training Data\r\n",
        "plt.scatter(X_train, y_train, color='Blue')\r\n",
        "plt.plot(X_train, LinReg.predict(X_train), color='Black')\r\n",
        "plt.title('Grades Vs Time to Study (On Training Data)')\r\n",
        "plt.xlabel('Time to Study')\r\n",
        "plt.ylabel('Grades')\r\n",
        "plt.show()"
      ],
      "execution_count": null,
      "outputs": [
        {
          "output_type": "display_data",
          "data": {
            "image/png": "[encoded data removed]",
            "text/plain": [
              "<Figure size 432x288 with 1 Axes>"
            ]
          },
          "metadata": {
            "tags": [],
            "needs_background": "light"
          }
        }
      ]
    },
    {
      "cell_type": "code",
      "metadata": {
        "colab": {
          "base_uri": "https://localhost:8080/",
          "height": 295
        },
        "id": "yVf5ayw8rXyt",
        "outputId": "deeadc3c-f221-4c32-ca75-554eef7ef38b"
      },
      "source": [
        "#Grades Vs Time to Study visualization on Test Data\r\n",
        "plt.scatter(X_test, y_test, color='Red')\r\n",
        "plt.plot(X_train, LinReg.predict(X_train), color='Black')\r\n",
        "plt.title('Grades Vs Time to Study (On Test Data)')\r\n",
        "plt.xlabel('Time to Study')\r\n",
        "plt.ylabel('Grades')\r\n",
        "plt.show()"
      ],
      "execution_count": null,
      "outputs": [
        {
          "output_type": "display_data",
          "data": {
            "image/png": "[encoded data removed]",
            "text/plain": [
              "<Figure size 432x288 with 1 Axes>"
            ]
          },
          "metadata": {
            "tags": [],
            "needs_background": "light"
          }
        }
      ]
    },
    {
      "cell_type": "markdown",
      "metadata": {
        "id": "rMjAkYz9k0jE"
      },
      "source": [
        "# **1) Mean Squared Error**\r\n",
        "# MSE=1 depicts the Worst Model\r\n",
        "# MSE=0 depicts the Best Model\r\n",
        "# MSE can over estimate the Model's badness in case of Noisy Data\r\n",
        "# It is Sensitive to Outliers\r\n",
        "# If there are no Outliers in our data you can use MSE"
      ]
    },
    {
      "cell_type": "code",
      "metadata": {
        "colab": {
          "base_uri": "https://localhost:8080/"
        },
        "id": "tKdzjuqDnH6p",
        "outputId": "795d2366-0af8-441e-cf3f-f7dddfd7df14"
      },
      "source": [
        "#Model Evaluation using Mean Square Error (MSE)\r\n",
        "from sklearn.metrics import mean_squared_error\r\n",
        "print('Mean Squared Error:',mean_squared_error(y_test, y_predict))"
      ],
      "execution_count": null,
      "outputs": [
        {
          "output_type": "stream",
          "text": [
            "Mean Squared Error: 0.003099226779173019\n"
          ],
          "name": "stdout"
        }
      ]
    },
    {
      "cell_type": "markdown",
      "metadata": {
        "id": "cjTSGAcTnhZt"
      },
      "source": [
        "# **2) Root Mean Square Error**\r\n",
        "# RMSE=1 depicts Worst Model\r\n",
        "# RMSE=0 depicts Best Model"
      ]
    },
    {
      "cell_type": "code",
      "metadata": {
        "colab": {
          "base_uri": "https://localhost:8080/"
        },
        "id": "Qt6s0xzhnzEf",
        "outputId": "a6495953-38de-4d79-da77-06309dac6379"
      },
      "source": [
        "#Model Evaluation using Root Mean Square Error (RMSE)\r\n",
        "print('Root Mean Squared Error:', np.sqrt(mean_squared_error(y_test, y_predict)))"
      ],
      "execution_count": null,
      "outputs": [
        {
          "output_type": "stream",
          "text": [
            "Root Mean Squared Error: 0.055670699467251346\n"
          ],
          "name": "stdout"
        }
      ]
    },
    {
      "cell_type": "markdown",
      "metadata": {
        "id": "m0f397FMnzfS"
      },
      "source": [
        "# **3) Mean Absolute Error**\r\n",
        "# It is not sensitive to Outliers\r\n",
        "# When Outliers are present in your data you can use MAE"
      ]
    },
    {
      "cell_type": "code",
      "metadata": {
        "colab": {
          "base_uri": "https://localhost:8080/"
        },
        "id": "HK4Uy3_FpH0t",
        "outputId": "3246fccf-f0b3-40b4-b503-a48ec081de18"
      },
      "source": [
        "#Model Evaluation using Mean Absolute Error (MAE)\r\n",
        "from sklearn.metrics import mean_absolute_error\r\n",
        "print('Mean Absolute Error:',mean_absolute_error(y_test, y_predict))"
      ],
      "execution_count": null,
      "outputs": [
        {
          "output_type": "stream",
          "text": [
            "Mean Absolute Error: 0.04927219118559932\n"
          ],
          "name": "stdout"
        }
      ]
    },
    {
      "cell_type": "markdown",
      "metadata": {
        "id": "4T_GYfRkpKL6"
      },
      "source": [
        "# **4) R Squared Error**"
      ]
    },
    {
      "cell_type": "code",
      "metadata": {
        "colab": {
          "base_uri": "https://localhost:8080/"
        },
        "id": "dhbFFTFPpPaD",
        "outputId": "782f33d0-5ff7-4639-a3f2-668f67157b6d"
      },
      "source": [
        "#Model Evaluation using R-Square\r\n",
        "from sklearn.metrics import r2_score\r\n",
        "r_square =r2_score(y_test, y_predict)\r\n",
        "print('R-Square Error:', r_square)"
      ],
      "execution_count": null,
      "outputs": [
        {
          "output_type": "stream",
          "text": [
            "R-Square Error: 0.997283498148368\n"
          ],
          "name": "stdout"
        }
      ]
    },
    {
      "cell_type": "markdown",
      "metadata": {
        "id": "kls7DIPqpQHC"
      },
      "source": [
        "# **5) Adjusted R Square**"
      ]
    },
    {
      "cell_type": "code",
      "metadata": {
        "colab": {
          "base_uri": "https://localhost:8080/"
        },
        "id": "Q8dYJyvlpTjO",
        "outputId": "43f3fa2b-62e1-48d3-9aed-a40d5b425681"
      },
      "source": [
        "#For Illustration Purpose Only. \r\n",
        "#Considering Multiple Linear Equation with two Variables : grade = a0 + a1*time_to_study + a2*class_participation\r\n",
        "#Model Evaluation using Adjusted R-Square. \r\n",
        "# Here n = no. of observations and p = no. of independent variables\r\n",
        "\r\n",
        "n = 50\r\n",
        "p = 2\r\n",
        "Adj_r_square = 1-(1-r_square)*(n-1)/(n-p-1)\r\n",
        "print('Adjusted R-Square Error:', Adj_r_square)"
      ],
      "execution_count": null,
      "outputs": [
        {
          "output_type": "stream",
          "text": [
            "Adjusted R-Square Error: 0.9971679023248944\n"
          ],
          "name": "stdout"
        }
      ]
    },
    {
      "cell_type": "code",
      "metadata": {
        "id": "B_bUmeF9uqoc"
      },
      "source": [
        ""
      ],
      "execution_count": null,
      "outputs": []
    }
  ]
}